{
 "metadata": {
  "language_info": {
   "codemirror_mode": {
    "name": "ipython",
    "version": 3
   },
   "file_extension": ".py",
   "mimetype": "text/x-python",
   "name": "python",
   "nbconvert_exporter": "python",
   "pygments_lexer": "ipython3",
   "version": "3.9.6"
  },
  "orig_nbformat": 4,
  "kernelspec": {
   "name": "python3",
   "display_name": "Python 3.9.6 64-bit"
  },
  "interpreter": {
   "hash": "e2811719e8408288f62bdf9ab1cc1b482e65ac273d102d037a801178c4494609"
  }
 },
 "nbformat": 4,
 "nbformat_minor": 2,
 "cells": [
  {
   "cell_type": "code",
   "execution_count": 10,
   "source": [
    "a = [1,2,3,4]\r\n",
    "\r\n",
    "for i in [1,2,3,4]:\r\n",
    "    print(i)\r\n",
    "print(a[0 : len(a)])\r\n",
    "print(min_item, idx = min(a[ i : len(a)]))"
   ],
   "outputs": [
    {
     "output_type": "stream",
     "name": "stdout",
     "text": [
      "1\n",
      "2\n",
      "3\n",
      "4\n",
      "[1, 2, 3, 4]\n"
     ]
    }
   ],
   "metadata": {}
  }
 ]
}